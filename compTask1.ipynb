{
 "cells": [
  {
   "cell_type": "markdown",
   "metadata": {},
   "source": [
    "## Arrays Slicing Challenge"
   ]
  },
  {
   "cell_type": "code",
   "execution_count": 1,
   "metadata": {},
   "outputs": [],
   "source": [
    "import numpy as np"
   ]
  },
  {
   "cell_type": "markdown",
   "metadata": {},
   "source": [
    "Why doesn't the following create a two-dimensional array?"
   ]
  },
  {
   "cell_type": "code",
   "execution_count": null,
   "metadata": {},
   "outputs": [],
   "source": [
    "array = np.array((1, 0, 0), \n",
    "                 (0, 1, 0), \n",
    "                 (0, 0, 1, dtype=float)"
   ]
  },
  {
   "cell_type": "markdown",
   "metadata": {},
   "source": [
    "Answer:\n",
    "The above does not create a two-dimensional array because there is a syntax-error. Instead, the numpy array should have a single tuple that contains all of the tuples that represent a row in the two-dimensional array.\n",
    "\n",
    "The corrected way is as follows:"
   ]
  },
  {
   "cell_type": "code",
   "execution_count": 3,
   "metadata": {},
   "outputs": [
    {
     "data": {
      "text/plain": [
       "array([[1., 0., 0.],\n",
       "       [0., 1., 0.],\n",
       "       [0., 0., 1.]])"
      ]
     },
     "execution_count": 3,
     "metadata": {},
     "output_type": "execute_result"
    }
   ],
   "source": [
    "array = np.array(((1, 0, 0), \n",
    "                  (0, 1, 0), \n",
    "                  (0, 0, 1)), dtype=float)\n",
    "\n",
    "array"
   ]
  },
  {
   "cell_type": "markdown",
   "metadata": {},
   "source": [
    "What is the difference between the following?"
   ]
  },
  {
   "cell_type": "code",
   "execution_count": 4,
   "metadata": {},
   "outputs": [
    {
     "data": {
      "text/plain": [
       "array([0, 0, 0])"
      ]
     },
     "execution_count": 4,
     "metadata": {},
     "output_type": "execute_result"
    }
   ],
   "source": [
    "a = np.array([0, 0, 0])\n",
    "a"
   ]
  },
  {
   "cell_type": "code",
   "execution_count": 5,
   "metadata": {},
   "outputs": [
    {
     "data": {
      "text/plain": [
       "array([[0, 0, 0]])"
      ]
     },
     "execution_count": 5,
     "metadata": {},
     "output_type": "execute_result"
    }
   ],
   "source": [
    "a = np.array([[0, 0, 0]])\n",
    "a"
   ]
  },
  {
   "cell_type": "markdown",
   "metadata": {},
   "source": [
    "The first code creates a one-dimensional NumPy array with three elements of 3 0's (hence a length of 3). The shape is thus (3,).\n",
    "\n",
    "However, the second code creates a two-dimensional array with one row and three columns. It has one row and three elements of 3 0's. \n",
    "Thus, the shape of the array is (1, 3)."
   ]
  },
  {
   "cell_type": "code",
   "execution_count": 7,
   "metadata": {},
   "outputs": [
    {
     "data": {
      "text/plain": [
       "array([[[ 1.,  2.,  3.,  4.],\n",
       "        [ 5.,  6.,  7.,  8.],\n",
       "        [ 9., 10., 11., 12.],\n",
       "        [13., 14., 15., 16.]],\n",
       "\n",
       "       [[17., 18., 19., 20.],\n",
       "        [21., 22., 23., 24.],\n",
       "        [25., 26., 27., 28.],\n",
       "        [29., 30., 31., 32.]],\n",
       "\n",
       "       [[33., 34., 35., 36.],\n",
       "        [37., 38., 39., 40.],\n",
       "        [41., 42., 43., 44.],\n",
       "        [45., 46., 47., 48.]]])"
      ]
     },
     "execution_count": 7,
     "metadata": {},
     "output_type": "execute_result"
    }
   ],
   "source": [
    "arr = np.linspace(1, 48, 48).reshape(3, 4, 4)\n",
    "\n",
    "arr"
   ]
  },
  {
   "cell_type": "markdown",
   "metadata": {},
   "source": [
    "Slice or index the array to find 20:"
   ]
  },
  {
   "cell_type": "code",
   "execution_count": 8,
   "metadata": {},
   "outputs": [
    {
     "data": {
      "text/plain": [
       "20.0"
      ]
     },
     "execution_count": 8,
     "metadata": {},
     "output_type": "execute_result"
    }
   ],
   "source": [
    "# 1 represents the middle set (index one) within the first dimension.\n",
    "# 0 represents the first list within the second dimension.\n",
    "# 3 represents the fourth value of the list in the third dimension.\n",
    "arr[1, 0, 3]"
   ]
  },
  {
   "cell_type": "markdown",
   "metadata": {},
   "source": [
    "Slice or index the array to find [9., 10., 11., 12.]"
   ]
  },
  {
   "cell_type": "code",
   "execution_count": 9,
   "metadata": {},
   "outputs": [
    {
     "data": {
      "text/plain": [
       "array([ 9., 10., 11., 12.])"
      ]
     },
     "execution_count": 9,
     "metadata": {},
     "output_type": "execute_result"
    }
   ],
   "source": [
    "arr[0, 2]\n",
    "# An alternative way of writing this is: arr[0][2]"
   ]
  },
  {
   "cell_type": "markdown",
   "metadata": {},
   "source": [
    "Slice or index the array to find [[33., 34., 35., 36], [37., 38., 39., 40.], [41., 42., 43., 44.], [45., 46., 47., 48.]]"
   ]
  },
  {
   "cell_type": "code",
   "execution_count": 10,
   "metadata": {},
   "outputs": [
    {
     "data": {
      "text/plain": [
       "array([[33., 34., 35., 36.],\n",
       "       [37., 38., 39., 40.],\n",
       "       [41., 42., 43., 44.],\n",
       "       [45., 46., 47., 48.]])"
      ]
     },
     "execution_count": 10,
     "metadata": {},
     "output_type": "execute_result"
    }
   ],
   "source": [
    "arr[2]"
   ]
  },
  {
   "cell_type": "markdown",
   "metadata": {},
   "source": [
    "Slice or index the array to find [[5., 6.], [21., 22.], [37., 38.]]"
   ]
  },
  {
   "cell_type": "code",
   "execution_count": 18,
   "metadata": {},
   "outputs": [
    {
     "data": {
      "text/plain": [
       "array([[ 5.,  6.],\n",
       "       [21., 22.],\n",
       "       [37., 38.]])"
      ]
     },
     "execution_count": 18,
     "metadata": {},
     "output_type": "execute_result"
    }
   ],
   "source": [
    "# The : (colon) selects all of the arrays within the first dimension.\n",
    "# The 1 shows that we want to look at the second array (second line/row) in the second dimension.\n",
    "# The :2 shows that we want the values at index 0 and 1 (thus, up to 2) from the third dimension (looking at the columns).\n",
    "arr[:, 1, :2]"
   ]
  },
  {
   "cell_type": "markdown",
   "metadata": {},
   "source": [
    "Slice or index the array to find [[36., 35.], [40., 39.], [44., 43.], [48., 47.]]"
   ]
  },
  {
   "cell_type": "code",
   "execution_count": 45,
   "metadata": {},
   "outputs": [
    {
     "data": {
      "text/plain": [
       "array([[36., 35.],\n",
       "       [40., 39.],\n",
       "       [44., 43.],\n",
       "       [48., 47.]])"
      ]
     },
     "execution_count": 45,
     "metadata": {},
     "output_type": "execute_result"
    }
   ],
   "source": [
    "# The first '2' selects the second index of the first dimension.\n",
    "# The : (colon) selects all of the values in the second dimension.\n",
    "# The 2: is used to select all of the values indexed from 2 to the end.\n",
    "# The [:, ::-1] reverses the order of the values from each the list (in the second dimension) of what has already been selected.\n",
    "arr[2, :, 2:][:, ::-1]"
   ]
  },
  {
   "cell_type": "markdown",
   "metadata": {},
   "source": [
    "Slice or index the array to find [[13., 9., 5., 1.], [29., 25., 21., 17.], [45., 41., 37., 33.]]"
   ]
  },
  {
   "cell_type": "code",
   "execution_count": 47,
   "metadata": {},
   "outputs": [
    {
     "data": {
      "text/plain": [
       "array([[13.,  9.,  5.,  1.],\n",
       "       [29., 25., 21., 17.],\n",
       "       [45., 41., 37., 33.]])"
      ]
     },
     "execution_count": 47,
     "metadata": {},
     "output_type": "execute_result"
    }
   ],
   "source": [
    "# The first colon is used to select all of the elements (lists) of the first dimension.\n",
    "# The second colon selects all of the rows of the lists in the second dimension.\n",
    "# The 0 selects all of the values at index 0 (the first column) in the third dimension.\n",
    "# The above is applied here to reverse the order of the elements in each of the lists in the second dimension.\n",
    "arr[:, :, 0][:, ::-1]"
   ]
  },
  {
   "cell_type": "markdown",
   "metadata": {},
   "source": [
    "Slice or index the array to find [[1., 4.], [45., 48.]]"
   ]
  },
  {
   "cell_type": "code",
   "execution_count": 98,
   "metadata": {},
   "outputs": [
    {
     "data": {
      "text/plain": [
       "array([[ 1.,  4.],\n",
       "       [45., 48.]])"
      ]
     },
     "execution_count": 98,
     "metadata": {},
     "output_type": "execute_result"
    }
   ],
   "source": [
    "# The ::2 selects the first row and the last row (steps of 2) in the array along the first layer.\n",
    "# The ::3 selects the first and fourth row of the sets selected.\n",
    "# The ::3 slices to select the first and fourth columns.\n",
    "# Then, we reshape it into a two-dimensional array and store it in a variable called 'modified_array'.\n",
    "# Then, we select the first and last row (::3) and all of the columns of the modified array.\n",
    "subarray = arr[::2, ::3, ::3]\n",
    "modified_array = subarray.reshape(-1,2) # 2-d array\n",
    "modified_array[::3, :]"
   ]
  },
  {
   "cell_type": "markdown",
   "metadata": {},
   "source": [
    "Slice or index the array to find [[25., 26., 27., 28.], [29., 30., 31., 32.], [33., 34., 35., 36.], [37., 38., 39., 40.]]"
   ]
  },
  {
   "cell_type": "code",
   "execution_count": 124,
   "metadata": {},
   "outputs": [
    {
     "data": {
      "text/plain": [
       "array([[[17., 18., 19., 20.],\n",
       "        [21., 22., 23., 24.],\n",
       "        [25., 26., 27., 28.],\n",
       "        [29., 30., 31., 32.]],\n",
       "\n",
       "       [[33., 34., 35., 36.],\n",
       "        [37., 38., 39., 40.],\n",
       "        [41., 42., 43., 44.],\n",
       "        [45., 46., 47., 48.]]])"
      ]
     },
     "execution_count": 124,
     "metadata": {},
     "output_type": "execute_result"
    }
   ],
   "source": [
    "# This selects the last two sets.\n",
    "subarray2 = arr[1:, :, :]\n",
    "subarray2"
   ]
  },
  {
   "cell_type": "code",
   "execution_count": 125,
   "metadata": {},
   "outputs": [
    {
     "name": "stdout",
     "output_type": "stream",
     "text": [
      "[[25. 26. 27. 28.]\n",
      " [29. 30. 31. 32.]]\n",
      "[[33. 34. 35. 36.]\n",
      " [37. 38. 39. 40.]]\n"
     ]
    }
   ],
   "source": [
    "# This selects the last two rows and all of the values in the columns of 'subarray2' from the first set.\n",
    "sub1 = subarray2[0, 2:, :]\n",
    "print(sub1)\n",
    "# This selects the first two rows and all of the values in the columns of 'subarray2' from the second set.\n",
    "sub2 = subarray2[1, :2, :]\n",
    "print(sub2)"
   ]
  },
  {
   "cell_type": "code",
   "execution_count": 121,
   "metadata": {},
   "outputs": [
    {
     "data": {
      "text/plain": [
       "array([[25., 26., 27., 28.],\n",
       "       [29., 30., 31., 32.],\n",
       "       [33., 34., 35., 36.],\n",
       "       [37., 38., 39., 40.]])"
      ]
     },
     "execution_count": 121,
     "metadata": {},
     "output_type": "execute_result"
    }
   ],
   "source": [
    "# To concatenate sub1 and sub2 into a two-dimensional array.\n",
    "selected_rows = np.concatenate((sub1, sub2), axis=0)\n",
    "selected_rows\n"
   ]
  }
 ],
 "metadata": {
  "kernelspec": {
   "display_name": "virtual",
   "language": "python",
   "name": "python3"
  },
  "language_info": {
   "codemirror_mode": {
    "name": "ipython",
    "version": 3
   },
   "file_extension": ".py",
   "mimetype": "text/x-python",
   "name": "python",
   "nbconvert_exporter": "python",
   "pygments_lexer": "ipython3",
   "version": "3.11.5"
  }
 },
 "nbformat": 4,
 "nbformat_minor": 2
}
